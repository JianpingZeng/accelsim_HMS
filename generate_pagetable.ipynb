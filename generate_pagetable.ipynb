{
 "cells": [
  {
   "cell_type": "code",
   "execution_count": 28,
   "metadata": {},
   "outputs": [],
   "source": [
    "import sys\n",
    "import os\n",
    "from os import getenv\n",
    "from os import path\n",
    "import multiprocessing"
   ]
  },
  {
   "cell_type": "code",
   "execution_count": 29,
   "metadata": {},
   "outputs": [],
   "source": [
    "target_traces_dir = '/path/to/traces' # traces directory has *.traceg files"
   ]
  },
  {
   "cell_type": "code",
   "execution_count": 30,
   "metadata": {},
   "outputs": [],
   "source": [
    "traceg_file_list = []\n",
    "for file in os.listdir(target_traces_dir):\n",
    "    if file.endswith(\".traceg\"):\n",
    "        traceg_file_list.append(path.join(target_traces_dir, file))"
   ]
  },
  {
   "cell_type": "code",
   "execution_count": 31,
   "metadata": {},
   "outputs": [],
   "source": [
    "target_trace_file_list = \\\n",
    "    [x for x in traceg_file_list]"
   ]
  },
  {
   "cell_type": "code",
   "execution_count": 32,
   "metadata": {},
   "outputs": [],
   "source": [
    "def parse_inst(line):\n",
    "    data = line.strip().split()\n",
    "    item = {}\n",
    "    item['pc'] = int(data[0], 16)\n",
    "    \n",
    "    item['thread_mask'] = bin(int(data[1], 16))[2:]\n",
    "    \n",
    "    item['num_dest'] = int(data[2])\n",
    "    num_dest = int(data[2])\n",
    "    item['dest_regs'] = data[3 : 3 + num_dest]\n",
    "    \n",
    "    item['opcode_tokens'] = data[3 + num_dest].split('.')\n",
    "    \n",
    "    num_src_idx = 3 + num_dest + 1\n",
    "    item['num_src'] = int(data[num_src_idx])\n",
    "    num_src = int(data[num_src_idx])\n",
    "    item['src_regs'] = data[num_src_idx + 1 : num_src_idx + 1 + num_src]\n",
    "    \n",
    "    mem_width_idx = num_src_idx + 1 + num_src\n",
    "    item['mem_width'] = int(data[mem_width_idx])\n",
    "    \n",
    "    if len(data) > mem_width_idx + 1:\n",
    "        item['addr_compress_mode'] = int(data[mem_width_idx + 1])\n",
    "        item['addr_list'] = data[mem_width_idx + 2 : ]\n",
    "    \n",
    "    return item"
   ]
  },
  {
   "cell_type": "code",
   "execution_count": 33,
   "metadata": {},
   "outputs": [],
   "source": [
    "def get_non_stride_mem_addr_list(num_active_threads, base_addr_list, access_mode):\n",
    "    assert(len(base_addr_list) == num_active_threads)\n",
    "    return base_addr_list"
   ]
  },
  {
   "cell_type": "code",
   "execution_count": 34,
   "metadata": {},
   "outputs": [],
   "source": [
    "def get_stride_mem_addr_list(num_active_threads, base_addr_list, access_mode):\n",
    "    addr_list = []\n",
    "    base_addr = base_addr_list[0]\n",
    "    stride = base_addr_list[1]\n",
    "    \n",
    "    addr_list.append(base_addr)\n",
    "    for i in range(num_active_threads - 1):\n",
    "        base_addr += stride\n",
    "        addr_list.append(base_addr)\n",
    "    \n",
    "    assert(len(addr_list) == num_active_threads)\n",
    "    return addr_list"
   ]
  },
  {
   "cell_type": "code",
   "execution_count": 35,
   "metadata": {},
   "outputs": [],
   "source": [
    "def get_base_delta_mem_addr_list(num_active_threads, base_addr_list, access_mode):\n",
    "    addr_list = []\n",
    "    base_addr = base_addr_list[0]\n",
    "    addr_list.append(base_addr)\n",
    "    # stride is same as the first delta\n",
    "    if len(base_addr_list) == 1:\n",
    "        assert(len(addr_list) == num_active_threads)\n",
    "        return addr_list\n",
    "    else:\n",
    "        for next_stride in base_addr_list[1 : ]:\n",
    "            base_addr += next_stride\n",
    "            addr_list.append(base_addr)\n",
    "\n",
    "        assert(len(addr_list) == num_active_threads)\n",
    "        return addr_list"
   ]
  },
  {
   "cell_type": "code",
   "execution_count": 36,
   "metadata": {},
   "outputs": [],
   "source": [
    "def get_mem_addr_list(num_active_threads, base_addr_list, access_mode):\n",
    "    if access_mode == 0:\n",
    "        base_addr_list = [int(x, 16) for x in base_addr_list]\n",
    "        return get_non_stride_mem_addr_list(num_active_threads, base_addr_list, access_mode)\n",
    "    # stride\n",
    "    elif access_mode == 1:\n",
    "        base_addr_list[0] = int(base_addr_list[0], 16)\n",
    "        base_addr_list[1:] = [int(x) for x in base_addr_list[1:]]\n",
    "        return get_stride_mem_addr_list(num_active_threads, base_addr_list, access_mode)\n",
    "    # base delta\n",
    "    else:\n",
    "        base_addr_list[0] = int(base_addr_list[0], 16)\n",
    "        base_addr_list[1:] = [int(x) for x in base_addr_list[1:]]\n",
    "        return get_base_delta_mem_addr_list(num_active_threads, base_addr_list, access_mode)"
   ]
  },
  {
   "cell_type": "code",
   "execution_count": 37,
   "metadata": {},
   "outputs": [],
   "source": [
    "TARGET_OPCODE = ['LDG', 'STG', 'LD', 'ST', 'ATOMG', 'ATOM', 'RED']\n",
    "def generate_pagetable(filepath):\n",
    "    PTE = set()\n",
    "    with open(filepath, 'r') as r_file:\n",
    "        start_inst = False\n",
    "        start_warp = False\n",
    "        for line in r_file:\n",
    "            if 'insts =' in line:\n",
    "                start_inst = True\n",
    "            elif 'warp =' in line:\n",
    "                start_warp = True\n",
    "            elif len(line.strip().split()) == 0: # empty line\n",
    "                start_inst, start_warp = False, False\n",
    "            elif start_inst and start_warp:\n",
    "                inst = parse_inst(line)\n",
    "                if inst['thread_mask'].count('1') > 0:\n",
    "                    opcode = inst['opcode_tokens'][0]\n",
    "                    num_active_threads = inst['thread_mask'].count('1')\n",
    "                    addr_list = []\n",
    "                    if opcode in TARGET_OPCODE:\n",
    "                        addr_list = \\\n",
    "                            get_mem_addr_list(num_active_threads, inst['addr_list'], inst['addr_compress_mode'])\n",
    "                        for addr in addr_list:\n",
    "                            # Assume 4KB page\n",
    "                            page_num = addr >> 12\n",
    "                            PTE.add(page_num)\n",
    "    \n",
    "    return PTE"
   ]
  },
  {
   "cell_type": "code",
   "execution_count": 38,
   "metadata": {},
   "outputs": [],
   "source": [
    "p = multiprocessing.Pool(24)\n",
    "PTE_list = p.map(generate_pagetable, target_trace_file_list)"
   ]
  },
  {
   "cell_type": "code",
   "execution_count": 39,
   "metadata": {},
   "outputs": [],
   "source": [
    "PTE_all = set()\n",
    "\n",
    "for PTE in PTE_list:\n",
    "    PTE_all |= PTE"
   ]
  },
  {
   "cell_type": "code",
   "execution_count": 40,
   "metadata": {},
   "outputs": [],
   "source": [
    "num_pages_path = path.join(target_traces_dir, 'num_pages.txt')\n",
    "\n",
    "num_pages = len(PTE_all)\n",
    "with open(num_pages_path, 'w') as w_file:\n",
    "    w_file.write('{} {}\\n'.format(num_pages, num_pages))"
   ]
  },
  {
   "cell_type": "code",
   "execution_count": null,
   "metadata": {},
   "outputs": [],
   "source": []
  }
 ],
 "metadata": {
  "kernelspec": {
   "display_name": "Python 3",
   "language": "python",
   "name": "python3"
  },
  "language_info": {
   "codemirror_mode": {
    "name": "ipython",
    "version": 3
   },
   "file_extension": ".py",
   "mimetype": "text/x-python",
   "name": "python",
   "nbconvert_exporter": "python",
   "pygments_lexer": "ipython3",
   "version": "3.8.18"
  }
 },
 "nbformat": 4,
 "nbformat_minor": 4
}
